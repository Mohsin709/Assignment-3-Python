{
 "cells": [
  {
   "cell_type": "code",
   "execution_count": 8,
   "id": "b9953185",
   "metadata": {},
   "outputs": [
    {
     "name": "stdout",
     "output_type": "stream",
     "text": [
      "Twinkle, twinkle, little star, \n",
      "\tHow I wonder what you are! \n",
      "\t\tUp above the world so high, \n",
      "\t\tLike a diamond in the sky. \n",
      "Twinkle, twinkle, little star, \n",
      "\tHow I wonder what you are\n"
     ]
    }
   ],
   "source": [
    "# Write a Python program to print the following string in a specific format (see the output). \n",
    "print(\"Twinkle, twinkle, little star, \\n\\tHow I wonder what you are! \\n\\t\\tUp above the world so high, \\n\\t\\tLike a diamond in the sky. \\nTwinkle, twinkle, little star, \\n\\tHow I wonder what you are\")"
   ]
  },
  {
   "cell_type": "code",
   "execution_count": 9,
   "id": "870fe95a",
   "metadata": {},
   "outputs": [
    {
     "name": "stdout",
     "output_type": "stream",
     "text": [
      "3.8.8\n"
     ]
    }
   ],
   "source": [
    "# Write a Python program to get the Python version you are using\n",
    "import platform\n",
    "print(platform.python_version())"
   ]
  },
  {
   "cell_type": "code",
   "execution_count": 10,
   "id": "a7eb1e8d",
   "metadata": {},
   "outputs": [
    {
     "name": "stdout",
     "output_type": "stream",
     "text": [
      "Current date and time : \n",
      "2021-10-24 16:23:40\n"
     ]
    }
   ],
   "source": [
    "# Write a Python program to display the current date and time.\n",
    "import datetime\n",
    "now = datetime.datetime.now()\n",
    "print (\"Current date and time : \")\n",
    "print (now.strftime(\"%Y-%m-%d %H:%M:%S\"))"
   ]
  },
  {
   "cell_type": "code",
   "execution_count": 11,
   "id": "c48eaf03",
   "metadata": {
    "scrolled": true
   },
   "outputs": [
    {
     "name": "stdout",
     "output_type": "stream",
     "text": [
      "Input the Radius of the Circle: 7\n",
      "The Area of the Circle with Radius 7.0 is: 153.93804002589985\n"
     ]
    }
   ],
   "source": [
    "# Write a Python program which accepts the radius of a circle from the user and compute the area.\n",
    "from math import pi\n",
    "r = float(input (\"Input the Radius of the Circle: \"))\n",
    "print (\"The Area of the Circle with Radius \" + str(r) + \" is: \" + str(pi * r**2))"
   ]
  },
  {
   "cell_type": "code",
   "execution_count": 12,
   "id": "22f20c43",
   "metadata": {},
   "outputs": [
    {
     "name": "stdout",
     "output_type": "stream",
     "text": [
      "What's your first name?: MOHSIN\n",
      "What's your last name?: LODHI\n",
      "NISHOM  IHDOL\n"
     ]
    }
   ],
   "source": [
    "# Write a Python program which accepts the user's first and last name and print them in reverse order with a space between them.\n",
    "firstname = input(\"What's your first name?: \")\n",
    "lastname = input(\"What's your last name?: \")\n",
    "fn = firstname[::-1]\n",
    "ln = lastname[::-1]  \n",
    "print (fn,\"\",ln)"
   ]
  },
  {
   "cell_type": "code",
   "execution_count": 13,
   "id": "65c2defc",
   "metadata": {},
   "outputs": [
    {
     "name": "stdout",
     "output_type": "stream",
     "text": [
      "Given list:  ['Ronaldo', 'Madrid', 7, 'Juve', 'United', 'Portugal', 5, -4]\n",
      "Sum of numeric items in list:  8\n"
     ]
    }
   ],
   "source": [
    "# Write a Python program to sum all the numeric items in a list? \n",
    "listA = ['Ronaldo','Madrid',7,'Juve','United',\"Portugal\",5,-4]\n",
    "print(\"Given list: \",listA);\n",
    "res = sum(filter(lambda i: isinstance(i, int), listA))\n",
    "print (\"Sum of numeric items in list: \", res);\n"
   ]
  },
  {
   "cell_type": "code",
   "execution_count": 14,
   "id": "bd3e8269",
   "metadata": {},
   "outputs": [
    {
     "name": "stdout",
     "output_type": "stream",
     "text": [
      "Enter first number: 7\n",
      "Enter second number: 7\n",
      "sum: 14\n"
     ]
    }
   ],
   "source": [
    "# Write a python program which takes two inputs from user and print them addition.\n",
    "x = int(input(\"Enter first number: \"))\n",
    "y = int(input(\"Enter second number: \")) \n",
    "sum = x + y;\n",
    "print(\"sum:\", sum);"
   ]
  },
  {
   "cell_type": "code",
   "execution_count": 15,
   "id": "9ba8db85",
   "metadata": {},
   "outputs": [
    {
     "name": "stdout",
     "output_type": "stream",
     "text": [
      "Enter English Marks: 70\n",
      "Enter Islamiat Marks: 80\n",
      "Enter Maths Marks: 75\n",
      "Enter Physics Marks: 65\n",
      "Enter Chemistry Marks: 72\n",
      "A\n"
     ]
    }
   ],
   "source": [
    "# Write a program which takes 5 inputs from user for different subject’s marks, total it and generate mark sheet using grades ? \n",
    "eng = int(input(\"Enter English Marks: \"));\n",
    "isl = int(input(\"Enter Islamiat Marks: \"));\n",
    "maths = int(input(\"Enter Maths Marks: \"));\n",
    "phy = int(input(\"Enter Physics Marks: \"));\n",
    "chem = int(input(\"Enter Chemistry Marks: \"));\n",
    "total = 500;\n",
    "percent = (eng + isl + maths + phy + chem)/total*100;\n",
    "if percent < 100 and percent >= 80:\n",
    "    print(\"A+\");\n",
    "elif percent < 80 and percent >= 70:\n",
    "    print(\"A\");\n",
    "elif percent < 70 and percent >= 60:\n",
    "    print(\"B\");\n",
    "elif percent < 60 and percent >= 50:\n",
    "    print(\"C\");\n",
    "elif percent < 50 and percent >= 40:\n",
    "    print(\"D\");\n",
    "elif percent < 40 and percent >= 33:\n",
    "    print(\"E\");\n",
    "else:\n",
    "    print(\"Fail\")"
   ]
  },
  {
   "cell_type": "code",
   "execution_count": 16,
   "id": "52f21ec6",
   "metadata": {},
   "outputs": [
    {
     "name": "stdout",
     "output_type": "stream",
     "text": [
      "Enter a number: 7\n",
      "It is an odd number.\n"
     ]
    }
   ],
   "source": [
    "# Write a program which take input from user and identify that the given number is even or odd? \n",
    "num = int(input(\"Enter a number: \"))\n",
    "mod = num % 2\n",
    "if mod > 0:\n",
    "    print(\"It is an odd number.\")\n",
    "else:\n",
    "    print(\"It is an even number.\")"
   ]
  },
  {
   "cell_type": "code",
   "execution_count": 17,
   "id": "4864cb74",
   "metadata": {},
   "outputs": [
    {
     "name": "stdout",
     "output_type": "stream",
     "text": [
      "7\n"
     ]
    }
   ],
   "source": [
    "# Write a program which print the length of the list?\n",
    "name = ['Ronaldo','Madrid',7,'Juve','United',\"Portugal\",5]\n",
    "size = len(name);\n",
    "print(size);"
   ]
  },
  {
   "cell_type": "code",
   "execution_count": 18,
   "id": "05bf95e2",
   "metadata": {},
   "outputs": [
    {
     "name": "stdout",
     "output_type": "stream",
     "text": [
      "Largest number of the numeric list is: 90\n"
     ]
    }
   ],
   "source": [
    "# Write a Python program to get the largest number from a numeric list. \n",
    "list = [90, 7, 80, 14, 9];\n",
    "print(\"Largest number of the numeric list is:\", max(list));"
   ]
  },
  {
   "cell_type": "code",
   "execution_count": 19,
   "id": "91c9530b",
   "metadata": {},
   "outputs": [
    {
     "name": "stdout",
     "output_type": "stream",
     "text": [
      "[1, 1, 2]\n"
     ]
    }
   ],
   "source": [
    "# Write a program that prints out all the elements of the list that are less than 5.\n",
    "a = [1, 1, 2, 3, 5, 8, 13, 21, 34, 55, 89];\n",
    "a2 = a[:3]\n",
    "print(a2);"
   ]
  },
  {
   "cell_type": "code",
   "execution_count": null,
   "id": "758fb582",
   "metadata": {},
   "outputs": [],
   "source": []
  },
  {
   "cell_type": "code",
   "execution_count": null,
   "id": "9c341da7",
   "metadata": {},
   "outputs": [],
   "source": []
  }
 ],
 "metadata": {
  "kernelspec": {
   "display_name": "Python 3",
   "language": "python",
   "name": "python3"
  },
  "language_info": {
   "codemirror_mode": {
    "name": "ipython",
    "version": 3
   },
   "file_extension": ".py",
   "mimetype": "text/x-python",
   "name": "python",
   "nbconvert_exporter": "python",
   "pygments_lexer": "ipython3",
   "version": "3.8.8"
  }
 },
 "nbformat": 4,
 "nbformat_minor": 5
}
